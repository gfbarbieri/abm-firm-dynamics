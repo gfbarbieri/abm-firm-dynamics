{
 "cells": [
  {
   "cell_type": "markdown",
   "metadata": {},
   "source": [
    "# Axtell Model"
   ]
  },
  {
   "cell_type": "markdown",
   "metadata": {},
   "source": [
    "## Import modules"
   ]
  },
  {
   "cell_type": "code",
   "execution_count": 1,
   "metadata": {},
   "outputs": [
    {
     "name": "stdout",
     "output_type": "stream",
     "text": [
      "Populating the interactive namespace from numpy and matplotlib\n"
     ]
    }
   ],
   "source": [
    "from __future__ import division\n",
    "%pylab inline\n",
    "import random as rd\n",
    "import matplotlib.pyplot as plt"
   ]
  },
  {
   "cell_type": "markdown",
   "metadata": {},
   "source": [
    "## Parameters"
   ]
  },
  {
   "cell_type": "code",
   "execution_count": 2,
   "metadata": {
    "collapsed": true
   },
   "outputs": [],
   "source": [
    "L = 5000\n",
    "number_neighbors = 4\n",
    "max_t = 2000\n",
    "active = .1"
   ]
  },
  {
   "cell_type": "markdown",
   "metadata": {},
   "source": [
    "## Agents"
   ]
  },
  {
   "cell_type": "markdown",
   "metadata": {},
   "source": [
    "### Workers"
   ]
  },
  {
   "cell_type": "code",
   "execution_count": 3,
   "metadata": {},
   "outputs": [],
   "source": [
    "class Worker:\n",
    "    \n",
    "    def __init__(self, id):\n",
    "        self.id = id\n",
    "        self.Theta = rd.random()\n",
    "        self.employer = None\n",
    "        self.effort = self.optimalEffort(0)\n",
    "        self.utility = self.computeUtility(self.effort, self.effort)\n",
    "        \n",
    "    def optimalEffort(self, E):\n",
    "        eStar = (-1 - 2*(E-self.Theta) + (1 + 4*self.Theta**2*(1+E)*(2+E))**(1/2))/(2*(1+self.Theta))\n",
    "        return max([0, min([1, eStar])])\n",
    "        \n",
    "    def computeEffort(self, *opt_args):\n",
    "        if not opt_args:\n",
    "            return self.effort\n",
    "        else:\n",
    "            newFirm = opt_args[0]\n",
    "            E = newFirm.getEfforts()\n",
    "            return self.optimalEffort(E)\n",
    "    \n",
    "    def computeUtility(self, wage, effort):\n",
    "        return (wage**self.Theta)*((1 - effort)**(1-self.Theta))\n",
    "    \n",
    "    def getBestNewFirm(self): # includes a startup\n",
    "        # get startup firm\n",
    "        startup = market.getEmptyFirm()\n",
    "        # get list of neighboring firms\n",
    "        neighboringFirms = market.getNeighborFirms(self)\n",
    "        allNewFirms = neighboringFirms + [startup]\n",
    "        allEfforts = [self.computeEffort(firm) for firm in allNewFirms]\n",
    "        allSizes = [firm.getSize()+1 for firm in allNewFirms]\n",
    "        allOutputs = [allNewFirms[i].getOutput(allEfforts[i]) for i in range(len(allNewFirms))]\n",
    "        allUtilities = [self.computeUtility(allOutputs[i]/allSizes[i], allEfforts[i]) for i in range(len(allNewFirms))]\n",
    "        bestIndex = allUtilities.index(max(allUtilities))\n",
    "        return allNewFirms[bestIndex], allEfforts[bestIndex], allUtilities[bestIndex]\n",
    "    \n",
    "    def updateEffort(self):\n",
    "        self.effort = self.optimalEffort(self.employer.getEfforts() - self.effort)\n",
    "        self.utility = self.computeUtility(self.employer.getOutput()/self.employer.getSize(), self.effort)\n",
    "    \n",
    "    def chooseFirm(self, period):\n",
    "        newFirm, newEffort, newUtility = self.getBestNewFirm()\n",
    "        self.employer.updateEfforts()\n",
    "        self.updateEffort()\n",
    "        if newUtility > self.utility:\n",
    "            market.migration(self, newFirm, period)\n",
    "            self.effort = newEffort\n",
    "            self.utility = newUtility\n",
    "        \n",
    "    def step(self, t):\n",
    "        if rd.random() < active:\n",
    "            self.chooseFirm(t)"
   ]
  },
  {
   "cell_type": "markdown",
   "metadata": {},
   "source": [
    "### Firms"
   ]
  },
  {
   "cell_type": "code",
   "execution_count": 4,
   "metadata": {},
   "outputs": [],
   "source": [
    "class Firm:\n",
    "    \n",
    "    def __init__(self, id):\n",
    "        self.id = id\n",
    "        self.book = {} # dictionary with period of hiring\n",
    "    \n",
    "    def hire(self, agent, period):\n",
    "        self.book[agent] = period\n",
    "\n",
    "    def separate(self, agent, period):\n",
    "        self.book.pop(agent)\n",
    "    \n",
    "    def getEfforts(self):\n",
    "        return sum([worker.effort for worker in self.book.keys()])\n",
    "    \n",
    "    def getOutput(self, *opt_arg):\n",
    "        if not opt_arg:\n",
    "            return self.getEfforts() + self.getEfforts()**2\n",
    "        else:\n",
    "            newEffort = opt_arg[0]\n",
    "            return self.getEfforts() + newEffort + (self.getEfforts()+newEffort)**2\n",
    "    \n",
    "    def getSize(self):\n",
    "        return len(self.book)\n",
    "    \n",
    "    def updateEfforts(self):\n",
    "        [[worker.updateEffort() for worker in self.book.keys()] for i in range(1)]"
   ]
  },
  {
   "cell_type": "markdown",
   "metadata": {},
   "source": [
    "### Market"
   ]
  },
  {
   "cell_type": "code",
   "execution_count": 5,
   "metadata": {},
   "outputs": [],
   "source": [
    "class Market:\n",
    "       \n",
    "    def getNeighborFirms(self, agent):\n",
    "        ## From network agents\n",
    "        firms = list(set([neigh.employer for neigh in network[agent] if neigh.employer != agent.employer]))\n",
    "        ## Pick rangom agents form the populaiton (generates Zipf law)\n",
    "        if rd.random() < .01:\n",
    "            firms = list(set([neigh.employer for neigh in rd.sample(workers, number_neighbors) if neigh.employer != agent.employer]))\n",
    "        return firms\n",
    "    \n",
    "    def getEmptyFirm(self):\n",
    "        return rd.choice([firm for firm in firms if firm.getSize()==0])\n",
    "       \n",
    "    def hiring(self, worker, firm, period):\n",
    "        worker.employer = firm\n",
    "        firm.hire(worker, period)\n",
    "\n",
    "    def separation(self, worker, firm, period):    \n",
    "        worker.employer = None\n",
    "        firm.separate(worker, period)\n",
    "        \n",
    "    def migration(self, worker, newFirm, period):\n",
    "        self.separation(worker, worker.employer, period)\n",
    "        self.hiring(worker, newFirm, period)\n",
    "    \n",
    "    def step(self, period):\n",
    "        [worker.step(period) for worker in workers]"
   ]
  },
  {
   "cell_type": "markdown",
   "metadata": {},
   "source": [
    "## Execution"
   ]
  },
  {
   "cell_type": "markdown",
   "metadata": {},
   "source": [
    "### Initialization"
   ]
  },
  {
   "cell_type": "code",
   "execution_count": null,
   "metadata": {
    "collapsed": true
   },
   "outputs": [],
   "source": [
    "workers = [Worker(i) for i in range(L)]\n",
    "firms = [Firm(i) for i in range(2*L+1)]\n",
    "market = Market()\n",
    "network = {}\n",
    "for worker in workers:\n",
    "    network[worker] = [neigh for neigh in rd.sample(workers, number_neighbors) if neigh != worker]\n",
    "# Set hirings\n",
    "for i in range(L):\n",
    "    market.hiring(workers[i], firms[i], 0)"
   ]
  },
  {
   "cell_type": "markdown",
   "metadata": {},
   "source": [
    "### Iteration"
   ]
  },
  {
   "cell_type": "code",
   "execution_count": null,
   "metadata": {},
   "outputs": [],
   "source": [
    "for t in range(max_t):\n",
    "    market.step(t)"
   ]
  },
  {
   "cell_type": "markdown",
   "metadata": {},
   "source": [
    "## Plotting"
   ]
  },
  {
   "cell_type": "code",
   "execution_count": null,
   "metadata": {},
   "outputs": [],
   "source": [
    "x = set([firm.getSize()+1 for firm in firms])\n",
    "bins = 10 ** np.linspace(np.log10(min(x)), np.log10(max(x)), 25)\n",
    "plt.hist([firm.getSize()+1 for firm in firms], bins=bins, log=True, facecolor='white', histtype='step')\n",
    "plt.gca().set_xscale(\"log\")\n",
    "plt.xlabel('number of employees')\n",
    "plt.ylabel('frequency')\n",
    "plt.title('firm size distribution')"
   ]
  }
 ],
 "metadata": {
  "kernelspec": {
   "display_name": "Python 3",
   "language": "python",
   "name": "python3"
  },
  "language_info": {
   "codemirror_mode": {
    "name": "ipython",
    "version": 3
   },
   "file_extension": ".py",
   "mimetype": "text/x-python",
   "name": "python",
   "nbconvert_exporter": "python",
   "pygments_lexer": "ipython3",
   "version": "3.7.0"
  }
 },
 "nbformat": 4,
 "nbformat_minor": 1
}
